{
 "cells": [
  {
   "cell_type": "code",
   "execution_count": 1,
   "metadata": {},
   "outputs": [
    {
     "name": "stdout",
     "output_type": "stream",
     "text": [
      "Pretty printing has been turned OFF\n"
     ]
    }
   ],
   "source": [
    "%pprint"
   ]
  },
  {
   "cell_type": "code",
   "execution_count": 2,
   "metadata": {},
   "outputs": [],
   "source": [
    "from src.core.SDR import *"
   ]
  },
  {
   "cell_type": "markdown",
   "metadata": {},
   "source": [
    "Create an SDR with a range of 32"
   ]
  },
  {
   "cell_type": "code",
   "execution_count": 3,
   "metadata": {},
   "outputs": [
    {
     "name": "stdout",
     "output_type": "stream",
     "text": [
      "Binary Array:  [0, 0, 0, 0, 1, 0, 0, 1, 0, 1, 0, 0, 0, 1, 0, 0, 0, 0, 0, 1, 0, 1, 0, 0, 0, 0, 0, 0, 1, 0, 1, 0]\n",
      "Index Array:  [4, 7, 9, 13, 19, 21, 28, 30]\n",
      "Density:  0.25\n",
      "Sparsity:  0.75\n"
     ]
    }
   ],
   "source": [
    "sdr = SDR(32)\n",
    "print(\"Binary Array: \",sdr.toBinaryArray())\n",
    "print(\"Index Array: \",sdr.toIndexArray())\n",
    "print(\"Density: \" ,sdr.density())\n",
    "print(\"Sparsity: \" ,sdr.sparsity())"
   ]
  },
  {
   "cell_type": "markdown",
   "metadata": {},
   "source": [
    "The array above is all the indices of the on bits in the SDR"
   ]
  },
  {
   "cell_type": "markdown",
   "metadata": {},
   "source": [
    "The sparsity of the SDR above is very low. SDRs work better when they have a greater range and sparsity."
   ]
  },
  {
   "cell_type": "code",
   "execution_count": 4,
   "metadata": {},
   "outputs": [
    {
     "name": "stdout",
     "output_type": "stream",
     "text": [
      "[63, 107, 190, 200, 318, 332, 429, 487, 554, 614, 647, 758, 773, 860, 911, 961]\n",
      "Density:  0.015625\n",
      "Sparsity:  0.984375\n"
     ]
    }
   ],
   "source": [
    "sdr.range = 1024\n",
    "sdr.random(16) # create new active bits, randomly\n",
    "print(sdr.toIndexArray())\n",
    "print(\"Density: \" ,sdr.density())\n",
    "print(\"Sparsity: \" ,sdr.sparsity())"
   ]
  },
  {
   "cell_type": "markdown",
   "metadata": {},
   "source": [
    "### Operations"
   ]
  },
  {
   "cell_type": "markdown",
   "metadata": {},
   "source": [
    "**Subsample** - Evenly remove active bits from the SDR"
   ]
  },
  {
   "cell_type": "code",
   "execution_count": 5,
   "metadata": {},
   "outputs": [
    {
     "name": "stdout",
     "output_type": "stream",
     "text": [
      "[63, 190, 318, 429, 554, 647, 773, 911]\n"
     ]
    }
   ],
   "source": [
    "print(sdr.subsample(8)) # subsample down to a size of 8 bits"
   ]
  },
  {
   "cell_type": "markdown",
   "metadata": {},
   "source": [
    "**Union** - Combine multiple SDRs"
   ]
  },
  {
   "cell_type": "code",
   "execution_count": 6,
   "metadata": {},
   "outputs": [
    {
     "data": {
      "text/plain": [
       "[63, 107, 190, 200, 318, 332, 429, 487, 554, 614, 647, 758, 773, 860, 911, 961, 233, 257, 604, 935, 1129, 1535, 1543, 2047, 152, 308, 766, 994, 1074, 1353, 1695, 1948]"
      ]
     },
     "execution_count": 6,
     "metadata": {},
     "output_type": "execute_result"
    }
   ],
   "source": [
    "sdr.union([SDR().indices,SDR().indices])"
   ]
  },
  {
   "cell_type": "markdown",
   "metadata": {},
   "source": [
    "**Overlap** - Matches the indices (on bits) that exist in both SDRs"
   ]
  },
  {
   "cell_type": "code",
   "execution_count": 7,
   "metadata": {},
   "outputs": [
    {
     "name": "stdout",
     "output_type": "stream",
     "text": [
      "[63, 318, 554, 647]\n"
     ]
    }
   ],
   "source": [
    "sdr.indices = [63, 190, 318, 429, 554, 647, 773, 924] # reassignment, for ease of demonstration\n",
    "print(sdr.overlap([63, 113, 318, 417, 554, 647, 784]))"
   ]
  },
  {
   "cell_type": "markdown",
   "metadata": {},
   "source": [
    "**Subtract** - Removes the matching indices between the two SDRs (the opposite of overlap)"
   ]
  },
  {
   "cell_type": "code",
   "execution_count": 8,
   "metadata": {},
   "outputs": [
    {
     "name": "stdout",
     "output_type": "stream",
     "text": [
      "[190, 429, 773, 924]\n"
     ]
    }
   ],
   "source": [
    "print(sdr.subtract([63, 113, 318, 417, 554, 647, 784]))"
   ]
  },
  {
   "cell_type": "markdown",
   "metadata": {},
   "source": [
    "**Difference** - Combines the SDRs and removes the overlap"
   ]
  },
  {
   "cell_type": "code",
   "execution_count": 9,
   "metadata": {},
   "outputs": [
    {
     "name": "stdout",
     "output_type": "stream",
     "text": [
      "[190, 429, 773, 924, 113, 417, 784]\n"
     ]
    }
   ],
   "source": [
    "print(sdr.difference([63, 113, 318, 417, 554, 647, 784]))"
   ]
  },
  {
   "cell_type": "code",
   "execution_count": null,
   "metadata": {},
   "outputs": [],
   "source": []
  }
 ],
 "metadata": {
  "kernelspec": {
   "display_name": "Python 3",
   "language": "python",
   "name": "python3"
  },
  "language_info": {
   "codemirror_mode": {
    "name": "ipython",
    "version": 3
   },
   "file_extension": ".py",
   "mimetype": "text/x-python",
   "name": "python",
   "nbconvert_exporter": "python",
   "pygments_lexer": "ipython3",
   "version": "3.7.0b2"
  }
 },
 "nbformat": 4,
 "nbformat_minor": 1
}
