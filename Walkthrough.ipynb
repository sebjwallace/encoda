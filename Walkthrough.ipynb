{
 "cells": [
  {
   "cell_type": "code",
   "execution_count": 50,
   "metadata": {},
   "outputs": [
    {
     "name": "stdout",
     "output_type": "stream",
     "text": [
      "Pretty printing has been turned OFF\n"
     ]
    }
   ],
   "source": [
    "%pprint"
   ]
  },
  {
   "cell_type": "code",
   "execution_count": 51,
   "metadata": {},
   "outputs": [],
   "source": [
    "from src.core.SDR import *"
   ]
  },
  {
   "cell_type": "markdown",
   "metadata": {},
   "source": [
    "Create an SDR with a range of 32"
   ]
  },
  {
   "cell_type": "code",
   "execution_count": 52,
   "metadata": {},
   "outputs": [
    {
     "name": "stdout",
     "output_type": "stream",
     "text": [
      "Binary Array:  [0, 0, 0, 1, 1, 0, 0, 0, 0, 1, 0, 0, 0, 0, 0, 0, 1, 0, 1, 0, 0, 0, 0, 0, 1, 0, 0, 1, 1, 0, 0, 0]\n",
      "Index Array:  [3, 4, 9, 16, 18, 24, 27, 28]\n",
      "Density:  0.25\n",
      "Sparsity:  0.75\n"
     ]
    }
   ],
   "source": [
    "sdr = SDR(32)\n",
    "print(\"Binary Array: \",sdr.toBinaryArray())\n",
    "print(\"Index Array: \",sdr.toIndexArray())\n",
    "print(\"Density: \" ,sdr.density())\n",
    "print(\"Sparsity: \" ,sdr.sparsity())"
   ]
  },
  {
   "cell_type": "markdown",
   "metadata": {},
   "source": [
    "The array above is all the indices of the on bits in the SDR"
   ]
  },
  {
   "cell_type": "markdown",
   "metadata": {},
   "source": [
    "The sparsity of the SDR above is very low. SDRs work better when they have a greater range and sparsity."
   ]
  },
  {
   "cell_type": "code",
   "execution_count": 53,
   "metadata": {},
   "outputs": [
    {
     "name": "stdout",
     "output_type": "stream",
     "text": [
      "[60, 83, 130, 228, 307, 362, 423, 493, 555, 612, 682, 720, 809, 857, 928, 999]\n",
      "Density:  0.015625\n",
      "Sparsity:  0.984375\n"
     ]
    }
   ],
   "source": [
    "sdr.range = 1024\n",
    "sdr.random(16) # create new active bits, randomly\n",
    "print(sdr.toIndexArray())\n",
    "print(\"Density: \" ,sdr.density())\n",
    "print(\"Sparsity: \" ,sdr.sparsity())"
   ]
  },
  {
   "cell_type": "markdown",
   "metadata": {},
   "source": [
    "### Operations"
   ]
  },
  {
   "cell_type": "markdown",
   "metadata": {},
   "source": [
    "**Subsample** - Evenly remove active bits from the SDR"
   ]
  },
  {
   "cell_type": "code",
   "execution_count": 54,
   "metadata": {},
   "outputs": [
    {
     "name": "stdout",
     "output_type": "stream",
     "text": [
      "[60, 130, 307, 423, 555, 682, 809, 928]\n"
     ]
    }
   ],
   "source": [
    "print(sdr.subsample(8)) # subsample down to a size of 8 bits"
   ]
  },
  {
   "cell_type": "markdown",
   "metadata": {},
   "source": [
    "**Union** - Combine multiple SDRs"
   ]
  },
  {
   "cell_type": "code",
   "execution_count": 55,
   "metadata": {},
   "outputs": [
    {
     "data": {
      "text/plain": [
       "[60, 83, 130, 228, 307, 362, 423, 493, 555, 612, 682, 720, 809, 857, 928, 999, 21, 286, 639, 824, 1120, 1404, 1550, 1992, 15, 307, 643, 793, 1093, 1460, 1677, 1907]"
      ]
     },
     "execution_count": 55,
     "metadata": {},
     "output_type": "execute_result"
    }
   ],
   "source": [
    "sdr.union([SDR().indices,SDR().indices])"
   ]
  },
  {
   "cell_type": "markdown",
   "metadata": {},
   "source": [
    "**Overlap** - Matches the indices (on bits) that exist in both SDRs"
   ]
  },
  {
   "cell_type": "code",
   "execution_count": 56,
   "metadata": {},
   "outputs": [
    {
     "name": "stdout",
     "output_type": "stream",
     "text": [
      "[63, 318, 554, 647]\n"
     ]
    }
   ],
   "source": [
    "sdr.indices = [63, 190, 318, 429, 554, 647, 773, 924] # reassignment, for ease of demonstration\n",
    "print(sdr.overlap([63, 113, 318, 417, 554, 647, 784]))"
   ]
  },
  {
   "cell_type": "markdown",
   "metadata": {},
   "source": [
    "**Subtract** - Removes the matching indices between the two SDRs (the opposite of overlap)"
   ]
  },
  {
   "cell_type": "code",
   "execution_count": 57,
   "metadata": {},
   "outputs": [
    {
     "name": "stdout",
     "output_type": "stream",
     "text": [
      "[190, 429, 773, 924]\n"
     ]
    }
   ],
   "source": [
    "print(sdr.subtract([63, 113, 318, 417, 554, 647, 784]))"
   ]
  },
  {
   "cell_type": "markdown",
   "metadata": {},
   "source": [
    "**Difference** - Combines the SDRs and removes the overlap"
   ]
  },
  {
   "cell_type": "code",
   "execution_count": 58,
   "metadata": {},
   "outputs": [
    {
     "name": "stdout",
     "output_type": "stream",
     "text": [
      "[190, 429, 773, 924, 113, 417, 784]\n"
     ]
    }
   ],
   "source": [
    "print(sdr.difference([63, 113, 318, 417, 554, 647, 784]))"
   ]
  },
  {
   "cell_type": "markdown",
   "metadata": {},
   "source": [
    "## SDRMap"
   ]
  },
  {
   "cell_type": "code",
   "execution_count": 59,
   "metadata": {},
   "outputs": [],
   "source": [
    "from src.core.SDRMap import *\n",
    "map = SDRMap()"
   ]
  },
  {
   "cell_type": "markdown",
   "metadata": {},
   "source": [
    "An SDRMap is a key-value mapping data structure. It maps SDRs using their indices."
   ]
  },
  {
   "cell_type": "code",
   "execution_count": 60,
   "metadata": {},
   "outputs": [
    {
     "name": "stdout",
     "output_type": "stream",
     "text": [
      "[63, 107, 318, 487, 554, 614, 758, 860]\n"
     ]
    }
   ],
   "source": [
    "map.set([190, 429, 773, 924, 113, 417, 784, 941],[63, 107, 318, 487, 554, 614, 758, 860])\n",
    "print(map.get([190, 429, 773, 924, 113, 417, 784, 941]))"
   ]
  },
  {
   "cell_type": "markdown",
   "metadata": {},
   "source": [
    "The indices from the key SDR are used to store & retreive the value SDR. Unlike a traditional key-value data structures, the key can be noisy and/or incomplete."
   ]
  },
  {
   "cell_type": "code",
   "execution_count": 61,
   "metadata": {},
   "outputs": [
    {
     "name": "stdout",
     "output_type": "stream",
     "text": [
      "[63, 107, 318, 487, 554, 614, 758, 860]\n",
      "[63, 107, 318, 487, 554, 614, 758, 860]\n",
      "[63, 107, 318, 487, 554, 614, 758, 860]\n",
      "[63, 107, 318, 487, 554, 614, 758, 860]\n"
     ]
    }
   ],
   "source": [
    "print(map.get([190, 773, 113, 417, 941])) # missing 3 bits\n",
    "print(map.get([190, 110, 773, 924, 100, 417, 784, 900])) # 3 incorrect bits\n",
    "print(map.get([429, 924, 784, 941, 417, 113, 773, 190])) # bits in difference order\n",
    "print(map.get([190, 429, 773, 847, 924, 528, 1197, 113, 417, 784, 941, 1200])) # 4 extra bits"
   ]
  },
  {
   "cell_type": "markdown",
   "metadata": {},
   "source": [
    "All the keys above retrieved the value successfully. However, the key invariance has a threshold. If the key does not meet that threshold then the value cannot be retreived."
   ]
  },
  {
   "cell_type": "code",
   "execution_count": 62,
   "metadata": {},
   "outputs": [
    {
     "name": "stdout",
     "output_type": "stream",
     "text": [
      "[]\n",
      "[]\n"
     ]
    }
   ],
   "source": [
    "print(map.get([429, 924, 417, 784])) # 4 missing bits\n",
    "print(map.get([29, 429, 41, 114, 580, 417, 784, 941])) # 4 incorrect bits"
   ]
  },
  {
   "cell_type": "markdown",
   "metadata": {},
   "source": [
    "The threshold for the above map is 0.5, the size of the key is 8, so therefore the number of correct key indices has to be above 4 (8 * 0.5 = 4). The threshold can be changed."
   ]
  },
  {
   "cell_type": "code",
   "execution_count": 63,
   "metadata": {},
   "outputs": [
    {
     "name": "stdout",
     "output_type": "stream",
     "text": [
      "[63, 107, 318, 487, 554, 614, 758, 860]\n",
      "[]\n",
      "[63, 107, 318, 487, 554, 614, 758, 860]\n",
      "[]\n",
      "[63, 107, 318, 487, 554, 614, 758, 860]\n",
      "[]\n"
     ]
    }
   ],
   "source": [
    "map.threshold = 0.4 # correct key indices must be above 3.2\n",
    "print(map.get([429, 924, 417, 784]))\n",
    "print(map.get([429, 924, 417]))\n",
    "map.threshold = 0.1 # above 0.8\n",
    "print(map.get([429]))\n",
    "print(map.get([]))\n",
    "map.threshold = 0.7 # above 5.6\n",
    "print(map.get([190, 429, 773, 924, 113, 417]))\n",
    "print(map.get([190, 429, 924, 113, 417]))"
   ]
  },
  {
   "cell_type": "markdown",
   "metadata": {},
   "source": [
    "The usefulness of this property is that a subsampled SDR key can be used to retreive the value."
   ]
  },
  {
   "cell_type": "code",
   "execution_count": 64,
   "metadata": {},
   "outputs": [
    {
     "name": "stdout",
     "output_type": "stream",
     "text": [
      "[113, 190, 417, 429, 773]\n",
      "[63, 107, 318, 487, 554, 614, 758, 860]\n"
     ]
    }
   ],
   "source": [
    "subsample = SDR.Subsample([190, 429, 773, 924, 113, 417, 784, 941],5) # subsample down to a size of 5\n",
    "print(subsample)\n",
    "map.threshold = 0.5\n",
    "print(map.get(subsample))"
   ]
  },
  {
   "cell_type": "markdown",
   "metadata": {},
   "source": [
    "The same is true if the key is a part of a union."
   ]
  },
  {
   "cell_type": "code",
   "execution_count": 65,
   "metadata": {},
   "outputs": [
    {
     "name": "stdout",
     "output_type": "stream",
     "text": [
      "[190, 429, 773, 924, 113, 417, 784, 941, 235, 505, 618, 922, 1224, 1452, 1781, 1912]\n",
      "[63, 107, 318, 487, 554, 614, 758, 860]\n"
     ]
    }
   ],
   "source": [
    "union = SDR.Union([[190, 429, 773, 924, 113, 417, 784, 941],SDR().indices])\n",
    "print(union)\n",
    "print(map.get(union))"
   ]
  },
  {
   "cell_type": "markdown",
   "metadata": {},
   "source": [
    "Or subsampled and within a union."
   ]
  },
  {
   "cell_type": "code",
   "execution_count": 66,
   "metadata": {},
   "outputs": [
    {
     "name": "stdout",
     "output_type": "stream",
     "text": [
      "[113, 190, 417, 429, 773, 88, 488, 756, 842, 1224, 1424, 1638, 1863]\n",
      "[63, 107, 318, 487, 554, 614, 758, 860]\n"
     ]
    }
   ],
   "source": [
    "union = SDR.Union([SDR.Subsample([190, 429, 773, 924, 113, 417, 784, 941],5),SDR().indices])\n",
    "print(union)\n",
    "print(map.get(union))"
   ]
  },
  {
   "cell_type": "markdown",
   "metadata": {},
   "source": [
    "SDRMap can have more than just a one-to-one key-value mapping."
   ]
  },
  {
   "cell_type": "code",
   "execution_count": 67,
   "metadata": {},
   "outputs": [
    {
     "name": "stdout",
     "output_type": "stream",
     "text": [
      "many-to-one relationship\n",
      "[63, 107, 318, 487, 554, 614, 758, 860]\n",
      "[63, 107, 318, 487, 554, 614, 758, 860]\n",
      "one-to-many relationship\n",
      "[86, 422, 529, 1021, 1197, 1321, 1541, 1818, 32, 395, 599, 937, 1046, 1497, 1540, 1850]\n",
      "many-to-many relationship\n",
      "[233, 385, 711, 899, 1239, 1381, 1622, 1870, 1, 445, 591, 806, 1215, 1522, 1647, 1955]\n",
      "[233, 385, 711, 899, 1239, 1381, 1622, 1870, 1, 445, 591, 806, 1215, 1522, 1647, 1955]\n"
     ]
    }
   ],
   "source": [
    "map = SDRMap()\n",
    "print('many-to-one relationship')\n",
    "map.set([168, 477, 608, 803, 1047, 1400, 1543, 1997],[63, 107, 318, 487, 554, 614, 758, 860])\n",
    "map.set([208, 383, 662, 870, 1038, 1321, 1646, 1834],[63, 107, 318, 487, 554, 614, 758, 860])\n",
    "print(map.get([168, 477, 608, 803, 1047, 1400, 1543, 1997]))\n",
    "print(map.get([208, 383, 662, 870, 1038, 1321, 1646, 1834]))\n",
    "print('one-to-many relationship')\n",
    "map = SDRMap()\n",
    "map.set([146, 327, 762, 821, 1268, 1353, 1790, 1832],[86, 422, 529, 1021, 1197, 1321, 1541, 1818])\n",
    "map.set([146, 327, 762, 821, 1268, 1353, 1790, 1832],[32, 395, 599, 937, 1046, 1497, 1540, 1850])\n",
    "print(map.get([146, 327, 762, 821, 1268, 1353, 1790, 1832])) # union of mapped values\n",
    "print('many-to-many relationship')\n",
    "map = SDRMap()\n",
    "map.set([50, 427, 546, 843, 1260, 1436, 1654, 1979],[233, 385, 711, 899, 1239, 1381, 1622, 1870])\n",
    "map.set([50, 427, 546, 843, 1260, 1436, 1654, 1979],[1, 445, 591, 806, 1215, 1522, 1647, 1955])\n",
    "map.set([235, 478, 705, 817, 1169, 1441, 1702, 1851],[233, 385, 711, 899, 1239, 1381, 1622, 1870])\n",
    "map.set([235, 478, 705, 817, 1169, 1441, 1702, 1851],[1, 445, 591, 806, 1215, 1522, 1647, 1955])\n",
    "print(map.get([50, 427, 546, 843, 1260, 1436, 1654, 1979]))\n",
    "print(map.get([235, 478, 705, 817, 1169, 1441, 1702, 1851]))"
   ]
  },
  {
   "cell_type": "code",
   "execution_count": null,
   "metadata": {},
   "outputs": [],
   "source": []
  }
 ],
 "metadata": {
  "kernelspec": {
   "display_name": "Python 3",
   "language": "python",
   "name": "python3"
  },
  "language_info": {
   "codemirror_mode": {
    "name": "ipython",
    "version": 3
   },
   "file_extension": ".py",
   "mimetype": "text/x-python",
   "name": "python",
   "nbconvert_exporter": "python",
   "pygments_lexer": "ipython3",
   "version": "3.7.0b2"
  }
 },
 "nbformat": 4,
 "nbformat_minor": 1
}
