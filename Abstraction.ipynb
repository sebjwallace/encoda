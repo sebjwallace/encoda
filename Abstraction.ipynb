{
 "cells": [
  {
   "cell_type": "markdown",
   "metadata": {
    "collapsed": true
   },
   "source": [
    "## Abstraction"
   ]
  },
  {
   "cell_type": "code",
   "execution_count": 20,
   "metadata": {},
   "outputs": [],
   "source": [
    "from src.core.SDR import *\n",
    "from src.core.SDRMap import *\n",
    "from src.core.SDRDictionary import *"
   ]
  },
  {
   "cell_type": "markdown",
   "metadata": {},
   "source": [
    "SDRs can be intercompared to yield abstractions that represent similarities and differences. There is a clear similarity between a and b. The similarity can be abstracted simply by using the overlap operator. The difference can be abstracted using the difference operator."
   ]
  },
  {
   "cell_type": "code",
   "execution_count": 21,
   "metadata": {},
   "outputs": [
    {
     "name": "stdout",
     "output_type": "stream",
     "text": [
      "similarities  [0, 1, 2, 3]\n",
      "differences  [10, 11, 12, 13, 20, 21, 22, 23]\n"
     ]
    }
   ],
   "source": [
    "a = SDR(indices=[0,1,2,3, 10,11,12,13])\n",
    "b = SDR(indices=[0,1,2,3, 20,21,22,23])\n",
    "c = SDR.Overlap(a(),b())\n",
    "d = SDR.Difference(a(),b())\n",
    "print('similarities ',c)\n",
    "print('differences ',d)"
   ]
  },
  {
   "cell_type": "markdown",
   "metadata": {},
   "source": [
    "The a & b representations are associated directly by their overlap. But representations can be associated in more ways than just local overlap. Representations can be associated by similar differences. An analogy will be used here."
   ]
  },
  {
   "cell_type": "code",
   "execution_count": 22,
   "metadata": {},
   "outputs": [],
   "source": [
    "dict = SDRDictionary()\n",
    "dict.map.size = 4\n",
    "dict.set([0,1,2,3],'bottle')\n",
    "dict.set([5,6,7,8],'ball')\n",
    "dict.set([10,11,12,13],'red')\n",
    "dict.set([20,21,22,23],'blue')"
   ]
  },
  {
   "cell_type": "markdown",
   "metadata": {},
   "source": [
    "Above, there are two abstract objects: bottle & ball, and two abstract colours: red & blue."
   ]
  },
  {
   "cell_type": "code",
   "execution_count": 23,
   "metadata": {},
   "outputs": [],
   "source": [
    "dict.set([10,11,12,13,0,1,2,3],'red bottle')\n",
    "dict.set([20,21,22,23,0,1,2,3],'blue bottle')\n",
    "dict.set([10,11,12,13,5,6,7,8],'red ball')\n",
    "dict.set([20,21,22,23,5,6,7,8],'blue ball')"
   ]
  },
  {
   "cell_type": "markdown",
   "metadata": {},
   "source": [
    "There is also 'concrete' objects: red bottle, blue bottle, red ball and blue ball. As an SDRDictionary is just an SDRMap with strings as the values, the abstract bottle key can be used to retrieve all things related to bottle. The same is true for other abstract SDRs."
   ]
  },
  {
   "cell_type": "code",
   "execution_count": 24,
   "metadata": {},
   "outputs": [
    {
     "name": "stdout",
     "output_type": "stream",
     "text": [
      "bottle:  ['bottle', 'red bottle', 'blue bottle']\n",
      "ball:  ['ball', 'red ball', 'blue ball']\n",
      "red:  ['red', 'red bottle', 'red ball']\n",
      "blue:  ['blue', 'blue bottle', 'blue ball']\n"
     ]
    }
   ],
   "source": [
    "print('bottle: ',dict.get([0,1,2,3]))\n",
    "print('ball: ',dict.get([5,6,7,8]))\n",
    "print('red: ',dict.get([10,11,12,13]))\n",
    "print('blue: ',dict.get([20,21,22,23]))"
   ]
  },
  {
   "cell_type": "markdown",
   "metadata": {},
   "source": [
    "It is clear here how things are related with direct similarity. However, there is another abstraction that can be made to relate the objects. There is an indirect similarity between the pair of bottles and the pair of balls. The similarity is the difference in colour between the pair of objects."
   ]
  },
  {
   "cell_type": "code",
   "execution_count": 25,
   "metadata": {
    "scrolled": true
   },
   "outputs": [
    {
     "name": "stdout",
     "output_type": "stream",
     "text": [
      "difference between bottles:  [10, 11, 12, 13, 20, 21, 22, 23]\n",
      "difference between balls:  [10, 11, 12, 13, 20, 21, 22, 23]\n"
     ]
    }
   ],
   "source": [
    "bottleDiff = SDR.Difference([10,11,12,13,0,1,2,3],[20,21,22,23,0,1,2,3])\n",
    "print('difference between bottles: ',bottleDiff)\n",
    "ballDiff = SDR.Difference([10,11,12,13,5,6,7,8],[20,21,22,23,5,6,7,8])\n",
    "print('difference between balls: ',ballDiff)"
   ]
  },
  {
   "cell_type": "markdown",
   "metadata": {},
   "source": [
    "The difference between the pair of bottles and the pair of balls are the same/similar. The difference SDR is actually just a union of red and blue."
   ]
  }
 ],
 "metadata": {
  "kernelspec": {
   "display_name": "Python 3",
   "language": "python",
   "name": "python3"
  },
  "language_info": {
   "codemirror_mode": {
    "name": "ipython",
    "version": 3
   },
   "file_extension": ".py",
   "mimetype": "text/x-python",
   "name": "python",
   "nbconvert_exporter": "python",
   "pygments_lexer": "ipython3",
   "version": "3.7.0b2"
  }
 },
 "nbformat": 4,
 "nbformat_minor": 1
}
