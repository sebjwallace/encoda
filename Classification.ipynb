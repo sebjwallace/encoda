{
 "cells": [
  {
   "cell_type": "code",
   "execution_count": 1,
   "metadata": {},
   "outputs": [],
   "source": [
    "from src.core.SDRClassifier import *\n",
    "from src.core.SDRDictionary import *"
   ]
  },
  {
   "cell_type": "code",
   "execution_count": 2,
   "metadata": {},
   "outputs": [],
   "source": [
    "classifier = SDRClassifier(threshold=0.5)\n",
    "dict = SDRDictionary()"
   ]
  },
  {
   "cell_type": "markdown",
   "metadata": {},
   "source": [
    "Classification is the grouping of SDRs based upon their similarities (overlap). As shown below, a vertical line is assigned to a random SDR by the SDRClassifier. Another vertical line, but with noise, is then classified the same as the original vertical line."
   ]
  },
  {
   "cell_type": "code",
   "execution_count": 3,
   "metadata": {},
   "outputs": [
    {
     "name": "stdout",
     "output_type": "stream",
     "text": [
      "vertical line class output:  [21, 349, 732, 949, 1051, 1330, 1752, 1859]\n",
      "noisy vertical line class output [21, 349, 732, 949, 1051, 1330, 1752, 1859]\n"
     ]
    }
   ],
   "source": [
    "# for better visualisation 0 & 1 are replaced with _ & O\n",
    "_ = 0\n",
    "O = 1\n",
    "v1 = [\n",
    "    _,_,_,O,_,_,_,_,\n",
    "    _,_,_,O,_,_,_,_,\n",
    "    _,_,_,O,_,_,_,_,\n",
    "    _,_,_,O,_,_,_,_,\n",
    "    _,_,_,O,_,_,_,_,\n",
    "    _,_,_,O,_,_,_,_,\n",
    "    _,_,_,O,_,_,_,_,\n",
    "    _,_,_,O,_,_,_,_,\n",
    "]\n",
    "print('vertical line class output: ',classifier.get(SDR.BinaryToIndexArray(v1)))\n",
    "v2 = [\n",
    "    _,_,_,O,_,_,_,_,\n",
    "    _,_,_,O,_,_,_,_,\n",
    "    _,_,_,_,O,_,_,_,\n",
    "    _,_,_,O,_,_,_,_,\n",
    "    _,_,_,_,_,_,_,_,\n",
    "    _,_,_,O,_,_,_,_,\n",
    "    _,_,_,O,O,_,_,_,\n",
    "    _,_,_,O,_,_,_,_,\n",
    "]\n",
    "print('noisy vertical line class output',classifier.get(SDR.BinaryToIndexArray(v2)))"
   ]
  },
  {
   "cell_type": "markdown",
   "metadata": {},
   "source": [
    "If the vertical line is too noisy then it will then be assigned to another class."
   ]
  },
  {
   "cell_type": "code",
   "execution_count": 4,
   "metadata": {},
   "outputs": [
    {
     "name": "stdout",
     "output_type": "stream",
     "text": [
      "noisy vertical line class output [158, 482, 581, 803, 1074, 1409, 1778, 1891]\n"
     ]
    }
   ],
   "source": [
    "v3 = [\n",
    "    _,_,_,O,_,_,_,_,\n",
    "    _,_,_,_,_,_,_,_,\n",
    "    _,_,_,_,O,_,_,_,\n",
    "    _,_,_,O,_,_,_,_,\n",
    "    _,_,_,_,_,_,_,_,\n",
    "    _,_,_,O,_,_,_,_,\n",
    "    _,_,_,O,O,_,_,_,\n",
    "    _,_,_,_,_,_,_,_,\n",
    "]\n",
    "print('noisy vertical line class output',classifier.get(SDR.BinaryToIndexArray(v3)))"
   ]
  },
  {
   "cell_type": "markdown",
   "metadata": {},
   "source": [
    "If an SDR overlaps with two existing patterns then the classifier will match to the most similar pattern."
   ]
  },
  {
   "cell_type": "code",
   "execution_count": 6,
   "metadata": {},
   "outputs": [
    {
     "name": "stdout",
     "output_type": "stream",
     "text": [
      "new vertical line, shifted to the left [95, 429, 645, 796, 1149, 1490, 1754, 1836]\n",
      "overlap of the two lines  [21, 349, 732, 949, 1051, 1330, 1752, 1859]\n"
     ]
    }
   ],
   "source": [
    "v4 = [\n",
    "    _,_,O,_,_,_,_,_,\n",
    "    _,_,O,_,_,_,_,_,\n",
    "    _,_,O,_,_,_,_,_,\n",
    "    _,_,O,_,_,_,_,_,\n",
    "    _,_,O,_,_,_,_,_,\n",
    "    _,_,O,_,_,_,_,_,\n",
    "    _,_,O,_,_,_,_,_,\n",
    "    _,_,O,_,_,_,_,_,\n",
    "]\n",
    "print('new vertical line, shifted to the left',classifier.get(SDR.BinaryToIndexArray(v4)))\n",
    "v5 = [\n",
    "    _,_,O,O,_,_,_,_,\n",
    "    _,_,O,O,_,_,_,_,\n",
    "    _,_,O,O,_,_,_,_,\n",
    "    _,_,O,O,_,_,_,_,\n",
    "    _,_,O,O,_,_,_,_,\n",
    "    _,_,O,O,_,_,_,_,\n",
    "    _,_,O,_,_,_,_,_,\n",
    "    _,_,O,O,_,_,_,_,\n",
    "]\n",
    "print('overlap of the two lines ',classifier.get(SDR.BinaryToIndexArray(v5)))"
   ]
  },
  {
   "cell_type": "code",
   "execution_count": null,
   "metadata": {},
   "outputs": [],
   "source": []
  }
 ],
 "metadata": {
  "kernelspec": {
   "display_name": "Python 3",
   "language": "python",
   "name": "python3"
  },
  "language_info": {
   "codemirror_mode": {
    "name": "ipython",
    "version": 3
   },
   "file_extension": ".py",
   "mimetype": "text/x-python",
   "name": "python",
   "nbconvert_exporter": "python",
   "pygments_lexer": "ipython3",
   "version": "3.7.0b2"
  }
 },
 "nbformat": 4,
 "nbformat_minor": 1
}
