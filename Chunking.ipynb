{
 "cells": [
  {
   "cell_type": "markdown",
   "metadata": {
    "collapsed": true
   },
   "source": [
    "## Chunking"
   ]
  },
  {
   "cell_type": "markdown",
   "metadata": {},
   "source": [
    "Chunking is used to generate a list of subsets of an SDR."
   ]
  },
  {
   "cell_type": "code",
   "execution_count": 1,
   "metadata": {},
   "outputs": [],
   "source": [
    "from src.core.SDR import *"
   ]
  },
  {
   "cell_type": "code",
   "execution_count": 10,
   "metadata": {},
   "outputs": [
    {
     "name": "stdout",
     "output_type": "stream",
     "text": [
      "binary array  [1, 0, 1, 0, 1, 0, 1, 0]\n",
      "index array  [0, 2, 4, 6]\n",
      "8\n"
     ]
    }
   ],
   "source": [
    "sdr = SDR(binaryArray=[1,0,1,0,1,0,1,0])\n",
    "print('binary array ',sdr.toBinaryArray())\n",
    "print('index array ',sdr.toIndexArray())"
   ]
  },
  {
   "cell_type": "markdown",
   "metadata": {},
   "source": [
    "There is a clear repeating pattern in the binary array [1,0]. This pattern can be abstracted out by chunking the SDR into smaller pieces."
   ]
  },
  {
   "cell_type": "code",
   "execution_count": 3,
   "metadata": {},
   "outputs": [
    {
     "name": "stdout",
     "output_type": "stream",
     "text": [
      "binary  [[1, 0], [1, 0], [1, 0], [1, 0]]\n",
      "indices  [[0], [0], [0], [0]]\n"
     ]
    }
   ],
   "source": [
    "print('binary ',sdr.chunk(size=2,offset=2,asBinary=True))\n",
    "print('indices ',sdr.chunk(size=2,offset=2))"
   ]
  },
  {
   "cell_type": "markdown",
   "metadata": {},
   "source": [
    "The chunk size is 2 - the same size as the pattern. The index array only shows active bits in the binary array - in this case just the first bit is active [0]."
   ]
  },
  {
   "cell_type": "code",
   "execution_count": 4,
   "metadata": {},
   "outputs": [
    {
     "name": "stdout",
     "output_type": "stream",
     "text": [
      "binary  [[1, 0], [0, 0], [0, 1], [0, 0]]\n",
      "indices  [[0], [1]]\n"
     ]
    }
   ],
   "source": [
    "sdr.fromBinaryArray([1,0,0,0,0,1,0,0])\n",
    "print('binary ',sdr.chunk(size=2,offset=2,asBinary=True))\n",
    "print('indices ',sdr.chunk(size=2,offset=2))"
   ]
  },
  {
   "cell_type": "markdown",
   "metadata": {},
   "source": [
    "The same pattern is present, except it is less regular and slightly offset. The offset caused the chunking to miss the second pattern. It can still be discovered by allowing the chunks to overlap."
   ]
  },
  {
   "cell_type": "code",
   "execution_count": 5,
   "metadata": {},
   "outputs": [
    {
     "name": "stdout",
     "output_type": "stream",
     "text": [
      "binary  [[1, 0], [0, 0], [0, 0], [0, 0], [0, 1], [1, 0], [0, 0], [0]]\n",
      "indices  [[0], [1], [0]]\n"
     ]
    }
   ],
   "source": [
    "print('binary ',sdr.chunk(size=2,offset=1,asBinary=True))\n",
    "print('indices ',sdr.chunk(size=2,offset=1))"
   ]
  },
  {
   "cell_type": "code",
   "execution_count": 8,
   "metadata": {},
   "outputs": [
    {
     "name": "stdout",
     "output_type": "stream",
     "text": [
      "chunk size 2:\n",
      "binary  [[1, 1], [0, 0], [1, 1], [1, 1], [0, 0], [1, 1], [1, 1], [1, 1]]\n",
      "indices  [[0, 1], [0, 1], [0, 1], [0, 1], [0, 1], [0, 1]]\n",
      "chunk size 4:\n",
      "binary  [[1, 1, 0, 0], [1, 1, 1, 1], [0, 0, 1, 1], [1, 1, 1, 1]]\n",
      "indices  [[0, 1], [0, 1, 2, 3], [2, 3], [0, 1, 2, 3]]\n"
     ]
    }
   ],
   "source": [
    "sdr = SDR(binaryArray=[1,1,0,0,1,1,1,1,0,0,1,1,1,1,1,1])\n",
    "print('chunk size 2:')\n",
    "print('binary ',sdr.chunk(size=2,offset=2,asBinary=True))\n",
    "print('indices ',sdr.chunk(size=2,offset=2))\n",
    "print('chunk size 4:')\n",
    "print('binary ',sdr.chunk(size=4,offset=4,asBinary=True))\n",
    "print('indices ',sdr.chunk(size=4,offset=4))"
   ]
  },
  {
   "cell_type": "markdown",
   "metadata": {},
   "source": [
    "Features of an SDR can be discovered at different chunk-size levels. At chunk-size 2, the repeating feature is [1,1] | [0,1]. At chunk-size 4, the repeating feature is [1,1,1,1] | [0,1,2,3]. The chunk-size-4 patterns are a binary combination of the chunk-size-2 patterns. Features within features lend towards a hierarchy."
   ]
  }
 ],
 "metadata": {
  "kernelspec": {
   "display_name": "Python 3",
   "language": "python",
   "name": "python3"
  },
  "language_info": {
   "codemirror_mode": {
    "name": "ipython",
    "version": 3
   },
   "file_extension": ".py",
   "mimetype": "text/x-python",
   "name": "python",
   "nbconvert_exporter": "python",
   "pygments_lexer": "ipython3",
   "version": "3.7.0b2"
  }
 },
 "nbformat": 4,
 "nbformat_minor": 1
}
